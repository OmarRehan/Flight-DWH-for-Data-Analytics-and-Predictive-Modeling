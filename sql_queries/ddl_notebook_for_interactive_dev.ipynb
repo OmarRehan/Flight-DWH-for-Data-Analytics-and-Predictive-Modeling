{
 "cells": [
  {
   "cell_type": "code",
   "execution_count": 2,
   "metadata": {},
   "outputs": [],
   "source": [
    "%load_ext sparksql_magic"
   ]
  },
  {
   "cell_type": "code",
   "execution_count": null,
   "metadata": {},
   "outputs": [],
   "source": [
    "from delta.tables import *\n",
    "from sql_constants import missing_val_replace_alphanumeric,missing_val_replace_numeric\n",
    "from pyspark.sql.functions import col"
   ]
  },
  {
   "cell_type": "code",
   "execution_count": null,
   "metadata": {},
   "outputs": [],
   "source": [
    "%%sparksql\n",
    "SHOW DATABASES"
   ]
  },
  {
   "cell_type": "code",
   "execution_count": null,
   "metadata": {},
   "outputs": [],
   "source": [
    "%%sparksql\n",
    "SELECT * FROM LANDING_ZONE.L_AIRLINE_ID LIMIT 5"
   ]
  },
  {
   "cell_type": "code",
   "execution_count": null,
   "metadata": {},
   "outputs": [],
   "source": [
    "%%sparksql\n",
    "SELECT * FROM INTEGRATION_LAYER.L_AIRLINE_ID LIMIT 5"
   ]
  },
  {
   "cell_type": "code",
   "execution_count": null,
   "metadata": {},
   "outputs": [],
   "source": [
    "delta_l_airline_id = DeltaTable.forPath(spark,'hdfs://localhost:9000/FLIGHTS_DL/INTEGRATION_LAYER/L_AIRLINE_ID')"
   ]
  },
  {
   "cell_type": "code",
   "execution_count": null,
   "metadata": {},
   "outputs": [],
   "source": [
    "delta_l_airline_id.delete() "
   ]
  },
  {
   "cell_type": "code",
   "execution_count": null,
   "metadata": {},
   "outputs": [],
   "source": [
    "%%sparksql\n",
    "SELECT \n",
    "CAST(CODE AS INTEGER) AS CODE\n",
    ",DESCRIPTION\n",
    "FROM LANDING_ZONE.L_AIRLINE_ID"
   ]
  },
  {
   "cell_type": "code",
   "execution_count": null,
   "metadata": {},
   "outputs": [],
   "source": [
    "df_LZ_l_airline_id = spark.sql(\"\"\"\n",
    "SELECT \n",
    "CAST(CODE AS INTEGER) AS CODE\n",
    ",DESCRIPTION\n",
    "FROM LANDING_ZONE.L_AIRLINE_ID\n",
    "\"\"\")"
   ]
  },
  {
   "cell_type": "code",
   "execution_count": null,
   "metadata": {},
   "outputs": [],
   "source": [
    "delta_l_airline_id.alias(\"oldData\") \\\n",
    "  .merge(\n",
    "    df_LZ_l_airline_id.alias(\"newData\"),\n",
    "    \"oldData.CODE = newData.CODE\") \\\n",
    "  .whenMatchedUpdate(set = { \"DESCRIPTION\": col(\"newData.DESCRIPTION\") }) \\\n",
    "  .whenNotMatchedInsert(values = { \"CODE\": col(\"newData.CODE\"),\"DESCRIPTION\": col(\"newData.DESCRIPTION\") }) \\\n",
    "  .execute()"
   ]
  },
  {
   "cell_type": "code",
   "execution_count": null,
   "metadata": {
    "scrolled": true
   },
   "outputs": [],
   "source": [
    "%%sparksql\n",
    "SELECT COUNT(*) FROM LANDING_ZONE.L_AIRLINE_ID"
   ]
  },
  {
   "cell_type": "code",
   "execution_count": 7,
   "metadata": {},
   "outputs": [
    {
     "data": {
      "text/html": [
       "<table><tr style=\"border-bottom: 1px solid\"><td style=\"font-weight: bold\">L_AIRLINE_ID</td><td style=\"font-weight: bold\">count(1)</td></tr><tr><td>L_QUARTERS</td><td>4</td></tr><tr><td>L_ONTIME_DELAY_GROUPS</td><td>15</td></tr><tr><td>L_YESNO_RESP</td><td>3</td></tr><tr><td>L_AIRPORT_ID</td><td>6543</td></tr><tr><td>L_AIRPORT</td><td>6560</td></tr><tr><td>L_UNIQUE_CARRIERS</td><td>1673</td></tr><tr><td>L_AIRPORT_SEQ_ID</td><td>18095</td></tr><tr><td>L_DIVERSIONS</td><td>7</td></tr><tr><td>L_AIRLINE_ID</td><td>1673</td></tr><tr><td>L_MONTHS</td><td>12</td></tr><tr><td>L_CITY_MARKET_ID</td><td>5917</td></tr><tr><td>L_WORLD_AREA_CODES</td><td>333</td></tr><tr><td>L_CANCELLATION</td><td>4</td></tr><tr><td>L_CARRIER_HISTORY</td><td>1937</td></tr><tr><td>L_DEPARRBLK</td><td>19</td></tr><tr><td>L_STATE_FIPS</td><td>74</td></tr><tr><td>L_DISTANCE_GROUP_250</td><td>11</td></tr><tr><td>L_STATE_ABR_AVIATION</td><td>67</td></tr><tr><td>L_WEEKDAYS</td><td>8</td></tr></table>"
      ],
      "text/plain": [
       "<IPython.core.display.HTML object>"
      ]
     },
     "execution_count": 7,
     "metadata": {},
     "output_type": "execute_result"
    }
   ],
   "source": [
    "%%sparksql\n",
    "SELECT 'L_AIRLINE_ID',COUNT(*) FROM INTEGRATION_LAYER.L_AIRLINE_ID\n",
    "UNION\n",
    "SELECT 'L_AIRPORT',COUNT(*) FROM INTEGRATION_LAYER.L_AIRPORT\n",
    "UNION \n",
    "SELECT 'L_AIRPORT_ID',COUNT(*) FROM INTEGRATION_LAYER.L_AIRPORT_ID\n",
    "UNION\n",
    "SELECT 'L_AIRPORT_SEQ_ID',COUNT(*) FROM INTEGRATION_LAYER.L_AIRPORT_SEQ_ID\n",
    "UNION\n",
    "SELECT 'L_CANCELLATION',COUNT(*) FROM INTEGRATION_LAYER.L_CANCELLATION\n",
    "UNION\n",
    "SELECT 'L_CARRIER_HISTORY',COUNT(*) FROM INTEGRATION_LAYER.L_CARRIER_HISTORY\n",
    "UNION\n",
    "SELECT 'L_CITY_MARKET_ID',COUNT(*) FROM INTEGRATION_LAYER.L_CITY_MARKET_ID\n",
    "UNION\n",
    "SELECT 'L_DEPARRBLK',COUNT(*) FROM INTEGRATION_LAYER.L_DEPARRBLK\n",
    "UNION\n",
    "SELECT 'L_DISTANCE_GROUP_250',COUNT(*) FROM INTEGRATION_LAYER.L_DISTANCE_GROUP_250\n",
    "UNION\n",
    "SELECT 'L_DIVERSIONS',COUNT(*) FROM INTEGRATION_LAYER.L_DIVERSIONS\n",
    "UNION\n",
    "SELECT 'L_MONTHS',COUNT(*) FROM INTEGRATION_LAYER.L_MONTHS\n",
    "UNION\n",
    "SELECT 'L_ONTIME_DELAY_GROUPS',COUNT(*) FROM INTEGRATION_LAYER.L_ONTIME_DELAY_GROUPS\n",
    "UNION\n",
    "SELECT 'L_QUARTERS',COUNT(*) FROM INTEGRATION_LAYER.L_QUARTERS\n",
    "UNION\n",
    "SELECT 'L_STATE_ABR_AVIATION',COUNT(*) FROM INTEGRATION_LAYER.L_STATE_ABR_AVIATION\n",
    "UNION\n",
    "SELECT 'L_STATE_FIPS',COUNT(*) FROM INTEGRATION_LAYER.L_STATE_FIPS\n",
    "UNION\n",
    "SELECT 'L_UNIQUE_CARRIERS',COUNT(*) FROM INTEGRATION_LAYER.L_UNIQUE_CARRIERS\n",
    "UNION\n",
    "SELECT 'L_WEEKDAYS',COUNT(*) FROM INTEGRATION_LAYER.L_WEEKDAYS\n",
    "UNION\n",
    "SELECT 'L_WORLD_AREA_CODES',COUNT(*) FROM INTEGRATION_LAYER.L_WORLD_AREA_CODES\n",
    "UNION\n",
    "SELECT 'L_YESNO_RESP',COUNT(*) FROM INTEGRATION_LAYER.L_YESNO_RESP"
   ]
  },
  {
   "cell_type": "code",
   "execution_count": null,
   "metadata": {},
   "outputs": [],
   "source": [
    "%%sparksql\n",
    "SELECT COUNT(*),COUNT(DISTINCT CODE) FROM INTEGRATION_LAYER.L_CARRIER_HISTORY"
   ]
  },
  {
   "cell_type": "code",
   "execution_count": null,
   "metadata": {},
   "outputs": [],
   "source": [
    "%%sparksql\n",
    "SELECT * FROM INTEGRATION_LAYER.L_CARRIER_HISTORY\n",
    "WHERE DESCRIPTION = 'Executive Airlines (1990 - 1999)'"
   ]
  },
  {
   "cell_type": "code",
   "execution_count": null,
   "metadata": {},
   "outputs": [],
   "source": [
    "%%sparksql\n",
    "SELECT * FROM INTEGRATION_LAYER.L_CARRIER_HISTORY\n",
    "WHERE CODE = 'NA'"
   ]
  },
  {
   "cell_type": "code",
   "execution_count": null,
   "metadata": {},
   "outputs": [],
   "source": []
  },
  {
   "cell_type": "code",
   "execution_count": null,
   "metadata": {},
   "outputs": [],
   "source": []
  },
  {
   "cell_type": "code",
   "execution_count": null,
   "metadata": {},
   "outputs": [],
   "source": []
  }
 ],
 "metadata": {
  "kernelspec": {
   "display_name": "Python 3",
   "language": "python",
   "name": "python3"
  },
  "language_info": {
   "codemirror_mode": {
    "name": "ipython",
    "version": 3
   },
   "file_extension": ".py",
   "mimetype": "text/x-python",
   "name": "python",
   "nbconvert_exporter": "python",
   "pygments_lexer": "ipython3",
   "version": "3.6.9"
  }
 },
 "nbformat": 4,
 "nbformat_minor": 2
}

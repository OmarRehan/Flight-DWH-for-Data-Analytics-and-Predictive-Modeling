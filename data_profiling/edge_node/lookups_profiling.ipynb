{
 "cells": [
  {
   "cell_type": "markdown",
   "metadata": {},
   "source": [
    "# Source Lookups Profiling\n",
    "\n",
    "<p>A Notebook for technical source lookups profiling</p>"
   ]
  },
  {
   "cell_type": "code",
   "execution_count": 1,
   "metadata": {},
   "outputs": [],
   "source": [
    "import configparser\n",
    "import pandas as pd\n",
    "import logging\n",
    "import os\n",
    "from helper_functions.get_profile import get_profile\n",
    "from helper_functions.read_configs_file import read_configs_file"
   ]
  },
  {
   "cell_type": "code",
   "execution_count": 2,
   "metadata": {
    "scrolled": true
   },
   "outputs": [],
   "source": [
    "# Reading the configurations\n",
    "config = read_configs_file()\n",
    "config_src_data_path = config.get('PATH','edge_node_path')"
   ]
  },
  {
   "cell_type": "markdown",
   "metadata": {},
   "source": [
    "### L_AIRLINE_ID :-"
   ]
  },
  {
   "cell_type": "code",
   "execution_count": 3,
   "metadata": {},
   "outputs": [
    {
     "name": "stdout",
     "output_type": "stream",
     "text": [
      "    Code                      Description\n",
      "0  19031   Mackey International Inc.: MAC\n",
      "1  19032  Munz Northern Airlines Inc.: XY\n",
      "2  19033       Cochise Airlines Inc.: COC\n",
      "3  19034   Golden Gate Airlines Inc.: GSA\n",
      "4  19035               Aeromech Inc.: RZZ\n"
     ]
    }
   ],
   "source": [
    "try:\n",
    "    \n",
    "    df_airline_id = pd.read_csv(os.path.join(config_src_data_path,'L_AIRLINE_ID/L_AIRLINE_ID.csv'))\n",
    "    print(df_airline_id.head())\n",
    "    \n",
    "except Exception as e:\n",
    "    logging.error(f'failed to open the Directory of source data, {e}')"
   ]
  },
  {
   "cell_type": "code",
   "execution_count": 4,
   "metadata": {
    "scrolled": false
   },
   "outputs": [
    {
     "data": {
      "text/html": [
       "<div>\n",
       "<style scoped>\n",
       "    .dataframe tbody tr th:only-of-type {\n",
       "        vertical-align: middle;\n",
       "    }\n",
       "\n",
       "    .dataframe tbody tr th {\n",
       "        vertical-align: top;\n",
       "    }\n",
       "\n",
       "    .dataframe thead th {\n",
       "        text-align: right;\n",
       "    }\n",
       "</style>\n",
       "<table border=\"1\" class=\"dataframe\">\n",
       "  <thead>\n",
       "    <tr style=\"text-align: right;\">\n",
       "      <th></th>\n",
       "      <th>COL_DTYPE</th>\n",
       "      <th>TOTAL_COUNT</th>\n",
       "      <th>UNIQ_VALS</th>\n",
       "      <th>COL_NULLS</th>\n",
       "      <th>COL_NULL%</th>\n",
       "    </tr>\n",
       "    <tr>\n",
       "      <th>COL_NAME</th>\n",
       "      <th></th>\n",
       "      <th></th>\n",
       "      <th></th>\n",
       "      <th></th>\n",
       "      <th></th>\n",
       "    </tr>\n",
       "  </thead>\n",
       "  <tbody>\n",
       "    <tr>\n",
       "      <th>Code</th>\n",
       "      <td>int64</td>\n",
       "      <td>1673</td>\n",
       "      <td>1673</td>\n",
       "      <td>0</td>\n",
       "      <td>0.0</td>\n",
       "    </tr>\n",
       "    <tr>\n",
       "      <th>Description</th>\n",
       "      <td>object</td>\n",
       "      <td>1673</td>\n",
       "      <td>1673</td>\n",
       "      <td>0</td>\n",
       "      <td>0.0</td>\n",
       "    </tr>\n",
       "  </tbody>\n",
       "</table>\n",
       "</div>"
      ],
      "text/plain": [
       "            COL_DTYPE  TOTAL_COUNT UNIQ_VALS  COL_NULLS  COL_NULL%\n",
       "COL_NAME                                                          \n",
       "Code            int64         1673      1673          0        0.0\n",
       "Description    object         1673      1673          0        0.0"
      ]
     },
     "execution_count": 4,
     "metadata": {},
     "output_type": "execute_result"
    }
   ],
   "source": [
    "get_profile(df_airline_id)"
   ]
  },
  {
   "cell_type": "markdown",
   "metadata": {},
   "source": [
    "### L_AIRPORT :-"
   ]
  },
  {
   "cell_type": "code",
   "execution_count": 5,
   "metadata": {},
   "outputs": [
    {
     "name": "stdout",
     "output_type": "stream",
     "text": [
      "  Code                                    Description\n",
      "0  01A         Afognak Lake, AK: Afognak Lake Airport\n",
      "1  03A  Granite Mountain, AK: Bear Creek Mining Strip\n",
      "2  04A                       Lik, AK: Lik Mining Camp\n",
      "3  05A         Little Squaw, AK: Little Squaw Airport\n",
      "4  06A                     Kizhuyak, AK: Kizhuyak Bay\n"
     ]
    }
   ],
   "source": [
    "try:\n",
    "    \n",
    "    df_airport = pd.read_csv(os.path.join(config_src_data_path,'L_AIRPORT/L_AIRPORT.csv'))\n",
    "    print(df_airport.head())\n",
    "    \n",
    "except Exception as e:\n",
    "    logging.error(f'failed to open the Directory of source data, {e}')"
   ]
  },
  {
   "cell_type": "code",
   "execution_count": 6,
   "metadata": {
    "scrolled": true
   },
   "outputs": [
    {
     "data": {
      "text/html": [
       "<div>\n",
       "<style scoped>\n",
       "    .dataframe tbody tr th:only-of-type {\n",
       "        vertical-align: middle;\n",
       "    }\n",
       "\n",
       "    .dataframe tbody tr th {\n",
       "        vertical-align: top;\n",
       "    }\n",
       "\n",
       "    .dataframe thead th {\n",
       "        text-align: right;\n",
       "    }\n",
       "</style>\n",
       "<table border=\"1\" class=\"dataframe\">\n",
       "  <thead>\n",
       "    <tr style=\"text-align: right;\">\n",
       "      <th></th>\n",
       "      <th>COL_DTYPE</th>\n",
       "      <th>TOTAL_COUNT</th>\n",
       "      <th>UNIQ_VALS</th>\n",
       "      <th>COL_NULLS</th>\n",
       "      <th>COL_NULL%</th>\n",
       "    </tr>\n",
       "    <tr>\n",
       "      <th>COL_NAME</th>\n",
       "      <th></th>\n",
       "      <th></th>\n",
       "      <th></th>\n",
       "      <th></th>\n",
       "      <th></th>\n",
       "    </tr>\n",
       "  </thead>\n",
       "  <tbody>\n",
       "    <tr>\n",
       "      <th>Code</th>\n",
       "      <td>object</td>\n",
       "      <td>6560</td>\n",
       "      <td>6560</td>\n",
       "      <td>0</td>\n",
       "      <td>0.0</td>\n",
       "    </tr>\n",
       "    <tr>\n",
       "      <th>Description</th>\n",
       "      <td>object</td>\n",
       "      <td>6560</td>\n",
       "      <td>6515</td>\n",
       "      <td>0</td>\n",
       "      <td>0.0</td>\n",
       "    </tr>\n",
       "  </tbody>\n",
       "</table>\n",
       "</div>"
      ],
      "text/plain": [
       "            COL_DTYPE  TOTAL_COUNT UNIQ_VALS  COL_NULLS  COL_NULL%\n",
       "COL_NAME                                                          \n",
       "Code           object         6560      6560          0        0.0\n",
       "Description    object         6560      6515          0        0.0"
      ]
     },
     "execution_count": 6,
     "metadata": {},
     "output_type": "execute_result"
    }
   ],
   "source": [
    "get_profile(df_airport)"
   ]
  },
  {
   "cell_type": "markdown",
   "metadata": {},
   "source": [
    "### L_AIRPORT_ID :-"
   ]
  },
  {
   "cell_type": "code",
   "execution_count": 7,
   "metadata": {},
   "outputs": [
    {
     "name": "stdout",
     "output_type": "stream",
     "text": [
      "    Code                                    Description\n",
      "0  10001         Afognak Lake, AK: Afognak Lake Airport\n",
      "1  10003  Granite Mountain, AK: Bear Creek Mining Strip\n",
      "2  10004                       Lik, AK: Lik Mining Camp\n",
      "3  10005         Little Squaw, AK: Little Squaw Airport\n",
      "4  10006                     Kizhuyak, AK: Kizhuyak Bay\n"
     ]
    }
   ],
   "source": [
    "try:\n",
    "    \n",
    "    df_airport_id = pd.read_csv(os.path.join(config_src_data_path,'L_AIRPORT_ID/L_AIRPORT_ID.csv'))\n",
    "    print(df_airport_id.head())\n",
    "    \n",
    "except Exception as e:\n",
    "    logging.error(f'failed to open the Directory of source data, {e}')"
   ]
  },
  {
   "cell_type": "code",
   "execution_count": 8,
   "metadata": {
    "scrolled": false
   },
   "outputs": [
    {
     "data": {
      "text/html": [
       "<div>\n",
       "<style scoped>\n",
       "    .dataframe tbody tr th:only-of-type {\n",
       "        vertical-align: middle;\n",
       "    }\n",
       "\n",
       "    .dataframe tbody tr th {\n",
       "        vertical-align: top;\n",
       "    }\n",
       "\n",
       "    .dataframe thead th {\n",
       "        text-align: right;\n",
       "    }\n",
       "</style>\n",
       "<table border=\"1\" class=\"dataframe\">\n",
       "  <thead>\n",
       "    <tr style=\"text-align: right;\">\n",
       "      <th></th>\n",
       "      <th>COL_DTYPE</th>\n",
       "      <th>TOTAL_COUNT</th>\n",
       "      <th>UNIQ_VALS</th>\n",
       "      <th>COL_NULLS</th>\n",
       "      <th>COL_NULL%</th>\n",
       "    </tr>\n",
       "    <tr>\n",
       "      <th>COL_NAME</th>\n",
       "      <th></th>\n",
       "      <th></th>\n",
       "      <th></th>\n",
       "      <th></th>\n",
       "      <th></th>\n",
       "    </tr>\n",
       "  </thead>\n",
       "  <tbody>\n",
       "    <tr>\n",
       "      <th>Code</th>\n",
       "      <td>int64</td>\n",
       "      <td>6543</td>\n",
       "      <td>6543</td>\n",
       "      <td>0</td>\n",
       "      <td>0.0</td>\n",
       "    </tr>\n",
       "    <tr>\n",
       "      <th>Description</th>\n",
       "      <td>object</td>\n",
       "      <td>6543</td>\n",
       "      <td>6523</td>\n",
       "      <td>0</td>\n",
       "      <td>0.0</td>\n",
       "    </tr>\n",
       "  </tbody>\n",
       "</table>\n",
       "</div>"
      ],
      "text/plain": [
       "            COL_DTYPE  TOTAL_COUNT UNIQ_VALS  COL_NULLS  COL_NULL%\n",
       "COL_NAME                                                          \n",
       "Code            int64         6543      6543          0        0.0\n",
       "Description    object         6543      6523          0        0.0"
      ]
     },
     "execution_count": 8,
     "metadata": {},
     "output_type": "execute_result"
    }
   ],
   "source": [
    "get_profile(df_airport_id)"
   ]
  },
  {
   "cell_type": "markdown",
   "metadata": {},
   "source": [
    "### L_AIRPORT_SEQ_ID :-"
   ]
  },
  {
   "cell_type": "code",
   "execution_count": 9,
   "metadata": {},
   "outputs": [
    {
     "name": "stdout",
     "output_type": "stream",
     "text": [
      "      Code                                    Description\n",
      "0  1000101         Afognak Lake, AK: Afognak Lake Airport\n",
      "1  1000301  Granite Mountain, AK: Bear Creek Mining Strip\n",
      "2  1000401                       Lik, AK: Lik Mining Camp\n",
      "3  1000501         Little Squaw, AK: Little Squaw Airport\n",
      "4  1000601                     Kizhuyak, AK: Kizhuyak Bay\n"
     ]
    }
   ],
   "source": [
    "try:\n",
    "    \n",
    "    df_airport_seq_id = pd.read_csv(os.path.join(config_src_data_path,'L_AIRPORT_SEQ_ID/L_AIRPORT_SEQ_ID.csv'))\n",
    "    print(df_airport_seq_id.head())\n",
    "    \n",
    "except Exception as e:\n",
    "    logging.error(f'failed to open the Directory of source data, {e}')"
   ]
  },
  {
   "cell_type": "code",
   "execution_count": 10,
   "metadata": {
    "scrolled": false
   },
   "outputs": [
    {
     "data": {
      "text/html": [
       "<div>\n",
       "<style scoped>\n",
       "    .dataframe tbody tr th:only-of-type {\n",
       "        vertical-align: middle;\n",
       "    }\n",
       "\n",
       "    .dataframe tbody tr th {\n",
       "        vertical-align: top;\n",
       "    }\n",
       "\n",
       "    .dataframe thead th {\n",
       "        text-align: right;\n",
       "    }\n",
       "</style>\n",
       "<table border=\"1\" class=\"dataframe\">\n",
       "  <thead>\n",
       "    <tr style=\"text-align: right;\">\n",
       "      <th></th>\n",
       "      <th>COL_DTYPE</th>\n",
       "      <th>TOTAL_COUNT</th>\n",
       "      <th>UNIQ_VALS</th>\n",
       "      <th>COL_NULLS</th>\n",
       "      <th>COL_NULL%</th>\n",
       "    </tr>\n",
       "    <tr>\n",
       "      <th>COL_NAME</th>\n",
       "      <th></th>\n",
       "      <th></th>\n",
       "      <th></th>\n",
       "      <th></th>\n",
       "      <th></th>\n",
       "    </tr>\n",
       "  </thead>\n",
       "  <tbody>\n",
       "    <tr>\n",
       "      <th>Code</th>\n",
       "      <td>int64</td>\n",
       "      <td>18095</td>\n",
       "      <td>18095</td>\n",
       "      <td>0</td>\n",
       "      <td>0.0</td>\n",
       "    </tr>\n",
       "    <tr>\n",
       "      <th>Description</th>\n",
       "      <td>object</td>\n",
       "      <td>18095</td>\n",
       "      <td>8365</td>\n",
       "      <td>0</td>\n",
       "      <td>0.0</td>\n",
       "    </tr>\n",
       "  </tbody>\n",
       "</table>\n",
       "</div>"
      ],
      "text/plain": [
       "            COL_DTYPE  TOTAL_COUNT UNIQ_VALS  COL_NULLS  COL_NULL%\n",
       "COL_NAME                                                          \n",
       "Code            int64        18095     18095          0        0.0\n",
       "Description    object        18095      8365          0        0.0"
      ]
     },
     "execution_count": 10,
     "metadata": {},
     "output_type": "execute_result"
    }
   ],
   "source": [
    "get_profile(df_airport_seq_id)"
   ]
  },
  {
   "cell_type": "markdown",
   "metadata": {},
   "source": [
    "### L_CANCELLATION :-"
   ]
  },
  {
   "cell_type": "code",
   "execution_count": 11,
   "metadata": {},
   "outputs": [
    {
     "name": "stdout",
     "output_type": "stream",
     "text": [
      "  Code          Description\n",
      "0    A              Carrier\n",
      "1    B              Weather\n",
      "2    C  National Air System\n",
      "3    D             Security\n"
     ]
    }
   ],
   "source": [
    "try:\n",
    "    \n",
    "    df_cancellation = pd.read_csv(os.path.join(config_src_data_path,'L_CANCELLATION/L_CANCELLATION.csv'))\n",
    "    print(df_cancellation.head())\n",
    "    \n",
    "except Exception as e:\n",
    "    logging.error(f'failed to open the Directory of source data, {e}')"
   ]
  },
  {
   "cell_type": "code",
   "execution_count": 12,
   "metadata": {
    "scrolled": false
   },
   "outputs": [
    {
     "data": {
      "text/html": [
       "<div>\n",
       "<style scoped>\n",
       "    .dataframe tbody tr th:only-of-type {\n",
       "        vertical-align: middle;\n",
       "    }\n",
       "\n",
       "    .dataframe tbody tr th {\n",
       "        vertical-align: top;\n",
       "    }\n",
       "\n",
       "    .dataframe thead th {\n",
       "        text-align: right;\n",
       "    }\n",
       "</style>\n",
       "<table border=\"1\" class=\"dataframe\">\n",
       "  <thead>\n",
       "    <tr style=\"text-align: right;\">\n",
       "      <th></th>\n",
       "      <th>COL_DTYPE</th>\n",
       "      <th>TOTAL_COUNT</th>\n",
       "      <th>UNIQ_VALS</th>\n",
       "      <th>COL_NULLS</th>\n",
       "      <th>COL_NULL%</th>\n",
       "    </tr>\n",
       "    <tr>\n",
       "      <th>COL_NAME</th>\n",
       "      <th></th>\n",
       "      <th></th>\n",
       "      <th></th>\n",
       "      <th></th>\n",
       "      <th></th>\n",
       "    </tr>\n",
       "  </thead>\n",
       "  <tbody>\n",
       "    <tr>\n",
       "      <th>Code</th>\n",
       "      <td>object</td>\n",
       "      <td>4</td>\n",
       "      <td>4</td>\n",
       "      <td>0</td>\n",
       "      <td>0.0</td>\n",
       "    </tr>\n",
       "    <tr>\n",
       "      <th>Description</th>\n",
       "      <td>object</td>\n",
       "      <td>4</td>\n",
       "      <td>4</td>\n",
       "      <td>0</td>\n",
       "      <td>0.0</td>\n",
       "    </tr>\n",
       "  </tbody>\n",
       "</table>\n",
       "</div>"
      ],
      "text/plain": [
       "            COL_DTYPE  TOTAL_COUNT UNIQ_VALS  COL_NULLS  COL_NULL%\n",
       "COL_NAME                                                          \n",
       "Code           object            4         4          0        0.0\n",
       "Description    object            4         4          0        0.0"
      ]
     },
     "execution_count": 12,
     "metadata": {},
     "output_type": "execute_result"
    }
   ],
   "source": [
    "get_profile(df_cancellation)"
   ]
  },
  {
   "cell_type": "markdown",
   "metadata": {},
   "source": [
    "### L_CARRIER_HISTORY :-"
   ]
  },
  {
   "cell_type": "code",
   "execution_count": 13,
   "metadata": {},
   "outputs": [
    {
     "name": "stdout",
     "output_type": "stream",
     "text": [
      "  Code                              Description\n",
      "0  02Q                  Titan Airways (2006 - )\n",
      "1  04Q             Tradewind Aviation (2006 - )\n",
      "2  05Q        Comlux Aviation, AG (2006 - 2012)\n",
      "3  06Q  Master Top Linhas Aereas Ltd. (2007 - )\n",
      "4  07Q            Flair Airlines Ltd. (2007 - )\n"
     ]
    }
   ],
   "source": [
    "try:\n",
    "    \n",
    "    df_carrier_history = pd.read_csv(os.path.join(config_src_data_path,'L_CARRIER_HISTORY/L_CARRIER_HISTORY.csv'))\n",
    "    print(df_carrier_history.head())\n",
    "    \n",
    "except Exception as e:\n",
    "    logging.error(f'failed to open the Directory of source data, {e}')"
   ]
  },
  {
   "cell_type": "code",
   "execution_count": 14,
   "metadata": {
    "scrolled": false
   },
   "outputs": [
    {
     "data": {
      "text/html": [
       "<div>\n",
       "<style scoped>\n",
       "    .dataframe tbody tr th:only-of-type {\n",
       "        vertical-align: middle;\n",
       "    }\n",
       "\n",
       "    .dataframe tbody tr th {\n",
       "        vertical-align: top;\n",
       "    }\n",
       "\n",
       "    .dataframe thead th {\n",
       "        text-align: right;\n",
       "    }\n",
       "</style>\n",
       "<table border=\"1\" class=\"dataframe\">\n",
       "  <thead>\n",
       "    <tr style=\"text-align: right;\">\n",
       "      <th></th>\n",
       "      <th>COL_DTYPE</th>\n",
       "      <th>TOTAL_COUNT</th>\n",
       "      <th>UNIQ_VALS</th>\n",
       "      <th>COL_NULLS</th>\n",
       "      <th>COL_NULL%</th>\n",
       "    </tr>\n",
       "    <tr>\n",
       "      <th>COL_NAME</th>\n",
       "      <th></th>\n",
       "      <th></th>\n",
       "      <th></th>\n",
       "      <th></th>\n",
       "      <th></th>\n",
       "    </tr>\n",
       "  </thead>\n",
       "  <tbody>\n",
       "    <tr>\n",
       "      <th>Code</th>\n",
       "      <td>object</td>\n",
       "      <td>1937</td>\n",
       "      <td>1732</td>\n",
       "      <td>2</td>\n",
       "      <td>0.1</td>\n",
       "    </tr>\n",
       "    <tr>\n",
       "      <th>Description</th>\n",
       "      <td>object</td>\n",
       "      <td>1937</td>\n",
       "      <td>1936</td>\n",
       "      <td>0</td>\n",
       "      <td>0.0</td>\n",
       "    </tr>\n",
       "  </tbody>\n",
       "</table>\n",
       "</div>"
      ],
      "text/plain": [
       "            COL_DTYPE  TOTAL_COUNT UNIQ_VALS  COL_NULLS  COL_NULL%\n",
       "COL_NAME                                                          \n",
       "Code           object         1937      1732          2        0.1\n",
       "Description    object         1937      1936          0        0.0"
      ]
     },
     "execution_count": 14,
     "metadata": {},
     "output_type": "execute_result"
    }
   ],
   "source": [
    "get_profile(df_carrier_history)"
   ]
  },
  {
   "cell_type": "code",
   "execution_count": 15,
   "metadata": {},
   "outputs": [
    {
     "data": {
      "text/html": [
       "<div>\n",
       "<style scoped>\n",
       "    .dataframe tbody tr th:only-of-type {\n",
       "        vertical-align: middle;\n",
       "    }\n",
       "\n",
       "    .dataframe tbody tr th {\n",
       "        vertical-align: top;\n",
       "    }\n",
       "\n",
       "    .dataframe thead th {\n",
       "        text-align: right;\n",
       "    }\n",
       "</style>\n",
       "<table border=\"1\" class=\"dataframe\">\n",
       "  <thead>\n",
       "    <tr style=\"text-align: right;\">\n",
       "      <th></th>\n",
       "      <th>Code</th>\n",
       "      <th>Description</th>\n",
       "    </tr>\n",
       "  </thead>\n",
       "  <tbody>\n",
       "    <tr>\n",
       "      <th>1163</th>\n",
       "      <td>NaN</td>\n",
       "      <td>Executive Airlines (1990 - 1999)</td>\n",
       "    </tr>\n",
       "    <tr>\n",
       "      <th>1164</th>\n",
       "      <td>NaN</td>\n",
       "      <td>North American Airlines (2005 - 2014)</td>\n",
       "    </tr>\n",
       "  </tbody>\n",
       "</table>\n",
       "</div>"
      ],
      "text/plain": [
       "     Code                            Description\n",
       "1163  NaN       Executive Airlines (1990 - 1999)\n",
       "1164  NaN  North American Airlines (2005 - 2014)"
      ]
     },
     "execution_count": 15,
     "metadata": {},
     "output_type": "execute_result"
    }
   ],
   "source": [
    "df_carrier_history[df_carrier_history.Code.isnull()]"
   ]
  },
  {
   "cell_type": "markdown",
   "metadata": {},
   "source": [
    "### L_CITY_MARKET_ID :-"
   ]
  },
  {
   "cell_type": "code",
   "execution_count": 16,
   "metadata": {},
   "outputs": [
    {
     "name": "stdout",
     "output_type": "stream",
     "text": [
      "    Code           Description\n",
      "0  30001      Afognak Lake, AK\n",
      "1  30003  Granite Mountain, AK\n",
      "2  30004               Lik, AK\n",
      "3  30005      Little Squaw, AK\n",
      "4  30006          Kizhuyak, AK\n"
     ]
    }
   ],
   "source": [
    "try:\n",
    "    \n",
    "    df_city_market_id = pd.read_csv(os.path.join(config_src_data_path,'L_CITY_MARKET_ID/L_CITY_MARKET_ID.csv'))\n",
    "    print(df_city_market_id.head())\n",
    "    \n",
    "except Exception as e:\n",
    "    logging.error(f'failed to open the Directory of source data, {e}')"
   ]
  },
  {
   "cell_type": "code",
   "execution_count": 17,
   "metadata": {
    "scrolled": false
   },
   "outputs": [
    {
     "data": {
      "text/html": [
       "<div>\n",
       "<style scoped>\n",
       "    .dataframe tbody tr th:only-of-type {\n",
       "        vertical-align: middle;\n",
       "    }\n",
       "\n",
       "    .dataframe tbody tr th {\n",
       "        vertical-align: top;\n",
       "    }\n",
       "\n",
       "    .dataframe thead th {\n",
       "        text-align: right;\n",
       "    }\n",
       "</style>\n",
       "<table border=\"1\" class=\"dataframe\">\n",
       "  <thead>\n",
       "    <tr style=\"text-align: right;\">\n",
       "      <th></th>\n",
       "      <th>COL_DTYPE</th>\n",
       "      <th>TOTAL_COUNT</th>\n",
       "      <th>UNIQ_VALS</th>\n",
       "      <th>COL_NULLS</th>\n",
       "      <th>COL_NULL%</th>\n",
       "    </tr>\n",
       "    <tr>\n",
       "      <th>COL_NAME</th>\n",
       "      <th></th>\n",
       "      <th></th>\n",
       "      <th></th>\n",
       "      <th></th>\n",
       "      <th></th>\n",
       "    </tr>\n",
       "  </thead>\n",
       "  <tbody>\n",
       "    <tr>\n",
       "      <th>Code</th>\n",
       "      <td>int64</td>\n",
       "      <td>5917</td>\n",
       "      <td>5917</td>\n",
       "      <td>0</td>\n",
       "      <td>0.0</td>\n",
       "    </tr>\n",
       "    <tr>\n",
       "      <th>Description</th>\n",
       "      <td>object</td>\n",
       "      <td>5917</td>\n",
       "      <td>5917</td>\n",
       "      <td>0</td>\n",
       "      <td>0.0</td>\n",
       "    </tr>\n",
       "  </tbody>\n",
       "</table>\n",
       "</div>"
      ],
      "text/plain": [
       "            COL_DTYPE  TOTAL_COUNT UNIQ_VALS  COL_NULLS  COL_NULL%\n",
       "COL_NAME                                                          \n",
       "Code            int64         5917      5917          0        0.0\n",
       "Description    object         5917      5917          0        0.0"
      ]
     },
     "execution_count": 17,
     "metadata": {},
     "output_type": "execute_result"
    }
   ],
   "source": [
    "get_profile(df_city_market_id)"
   ]
  },
  {
   "cell_type": "markdown",
   "metadata": {},
   "source": [
    "### L_DEPARRBLK :-"
   ]
  },
  {
   "cell_type": "code",
   "execution_count": 18,
   "metadata": {},
   "outputs": [
    {
     "name": "stdout",
     "output_type": "stream",
     "text": [
      "        Code        Description\n",
      "0  0001-0559  12:00AM to 5:59AM\n",
      "1  0600-0659   6:00AM to 6:59AM\n",
      "2  0700-0759   7:00AM to 7:59AM\n",
      "3  0800-0859   8:00AM to 8:59AM\n",
      "4  0900-0959   9:00AM to 9:59AM\n"
     ]
    }
   ],
   "source": [
    "try:\n",
    "    \n",
    "    df_deparblk = pd.read_csv(os.path.join(config_src_data_path,'L_DEPARRBLK/L_DEPARRBLK.csv'))\n",
    "    print(df_deparblk.head())\n",
    "    \n",
    "except Exception as e:\n",
    "    logging.error(f'failed to open the Directory of source data, {e}')"
   ]
  },
  {
   "cell_type": "code",
   "execution_count": 19,
   "metadata": {
    "scrolled": true
   },
   "outputs": [
    {
     "data": {
      "text/html": [
       "<div>\n",
       "<style scoped>\n",
       "    .dataframe tbody tr th:only-of-type {\n",
       "        vertical-align: middle;\n",
       "    }\n",
       "\n",
       "    .dataframe tbody tr th {\n",
       "        vertical-align: top;\n",
       "    }\n",
       "\n",
       "    .dataframe thead th {\n",
       "        text-align: right;\n",
       "    }\n",
       "</style>\n",
       "<table border=\"1\" class=\"dataframe\">\n",
       "  <thead>\n",
       "    <tr style=\"text-align: right;\">\n",
       "      <th></th>\n",
       "      <th>COL_DTYPE</th>\n",
       "      <th>TOTAL_COUNT</th>\n",
       "      <th>UNIQ_VALS</th>\n",
       "      <th>COL_NULLS</th>\n",
       "      <th>COL_NULL%</th>\n",
       "    </tr>\n",
       "    <tr>\n",
       "      <th>COL_NAME</th>\n",
       "      <th></th>\n",
       "      <th></th>\n",
       "      <th></th>\n",
       "      <th></th>\n",
       "      <th></th>\n",
       "    </tr>\n",
       "  </thead>\n",
       "  <tbody>\n",
       "    <tr>\n",
       "      <th>Code</th>\n",
       "      <td>object</td>\n",
       "      <td>19</td>\n",
       "      <td>19</td>\n",
       "      <td>0</td>\n",
       "      <td>0.0</td>\n",
       "    </tr>\n",
       "    <tr>\n",
       "      <th>Description</th>\n",
       "      <td>object</td>\n",
       "      <td>19</td>\n",
       "      <td>19</td>\n",
       "      <td>0</td>\n",
       "      <td>0.0</td>\n",
       "    </tr>\n",
       "  </tbody>\n",
       "</table>\n",
       "</div>"
      ],
      "text/plain": [
       "            COL_DTYPE  TOTAL_COUNT UNIQ_VALS  COL_NULLS  COL_NULL%\n",
       "COL_NAME                                                          \n",
       "Code           object           19        19          0        0.0\n",
       "Description    object           19        19          0        0.0"
      ]
     },
     "execution_count": 19,
     "metadata": {},
     "output_type": "execute_result"
    }
   ],
   "source": [
    "get_profile(df_deparblk)"
   ]
  },
  {
   "cell_type": "markdown",
   "metadata": {},
   "source": [
    "### L_DISTANCE_GROUP_250 :-"
   ]
  },
  {
   "cell_type": "code",
   "execution_count": 20,
   "metadata": {},
   "outputs": [
    {
     "name": "stdout",
     "output_type": "stream",
     "text": [
      "   Code          Description\n",
      "0     1  Less Than 250 Miles\n",
      "1     2        250-499 Miles\n",
      "2     3        500-749 Miles\n",
      "3     4        750-999 Miles\n",
      "4     5      1000-1249 Miles\n"
     ]
    }
   ],
   "source": [
    "try:\n",
    "    \n",
    "    df_distance_group_250 = pd.read_csv(os.path.join(config_src_data_path,'L_DISTANCE_GROUP_250/L_DISTANCE_GROUP_250.csv'))\n",
    "    print(df_distance_group_250.head())\n",
    "    \n",
    "except Exception as e:\n",
    "    logging.error(f'failed to open the Directory of source data, {e}')"
   ]
  },
  {
   "cell_type": "code",
   "execution_count": 21,
   "metadata": {
    "scrolled": false
   },
   "outputs": [
    {
     "data": {
      "text/html": [
       "<div>\n",
       "<style scoped>\n",
       "    .dataframe tbody tr th:only-of-type {\n",
       "        vertical-align: middle;\n",
       "    }\n",
       "\n",
       "    .dataframe tbody tr th {\n",
       "        vertical-align: top;\n",
       "    }\n",
       "\n",
       "    .dataframe thead th {\n",
       "        text-align: right;\n",
       "    }\n",
       "</style>\n",
       "<table border=\"1\" class=\"dataframe\">\n",
       "  <thead>\n",
       "    <tr style=\"text-align: right;\">\n",
       "      <th></th>\n",
       "      <th>COL_DTYPE</th>\n",
       "      <th>TOTAL_COUNT</th>\n",
       "      <th>UNIQ_VALS</th>\n",
       "      <th>COL_NULLS</th>\n",
       "      <th>COL_NULL%</th>\n",
       "    </tr>\n",
       "    <tr>\n",
       "      <th>COL_NAME</th>\n",
       "      <th></th>\n",
       "      <th></th>\n",
       "      <th></th>\n",
       "      <th></th>\n",
       "      <th></th>\n",
       "    </tr>\n",
       "  </thead>\n",
       "  <tbody>\n",
       "    <tr>\n",
       "      <th>Code</th>\n",
       "      <td>int64</td>\n",
       "      <td>11</td>\n",
       "      <td>11</td>\n",
       "      <td>0</td>\n",
       "      <td>0.0</td>\n",
       "    </tr>\n",
       "    <tr>\n",
       "      <th>Description</th>\n",
       "      <td>object</td>\n",
       "      <td>11</td>\n",
       "      <td>11</td>\n",
       "      <td>0</td>\n",
       "      <td>0.0</td>\n",
       "    </tr>\n",
       "  </tbody>\n",
       "</table>\n",
       "</div>"
      ],
      "text/plain": [
       "            COL_DTYPE  TOTAL_COUNT UNIQ_VALS  COL_NULLS  COL_NULL%\n",
       "COL_NAME                                                          \n",
       "Code            int64           11        11          0        0.0\n",
       "Description    object           11        11          0        0.0"
      ]
     },
     "execution_count": 21,
     "metadata": {},
     "output_type": "execute_result"
    }
   ],
   "source": [
    "get_profile(df_distance_group_250)"
   ]
  },
  {
   "cell_type": "markdown",
   "metadata": {},
   "source": [
    "### L_DIVERSIONS :-"
   ]
  },
  {
   "cell_type": "code",
   "execution_count": 22,
   "metadata": {},
   "outputs": [
    {
     "name": "stdout",
     "output_type": "stream",
     "text": [
      "   Code                      Description\n",
      "0     0           Flight is not Diverted\n",
      "1     1     One Diverted Airport Landing\n",
      "2     2    Two Diverted Airport Landings\n",
      "3     3  Three Diverted Airport Landings\n",
      "4     4   Four Diverted Airport Landings\n"
     ]
    }
   ],
   "source": [
    "try:\n",
    "    \n",
    "    df_diversions = pd.read_csv(os.path.join(config_src_data_path,'L_DIVERSIONS/L_DIVERSIONS.csv'))\n",
    "    print(df_diversions.head())\n",
    "    \n",
    "except Exception as e:\n",
    "    logging.error(f'failed to open the Directory of source data, {e}')"
   ]
  },
  {
   "cell_type": "code",
   "execution_count": 23,
   "metadata": {
    "scrolled": false
   },
   "outputs": [
    {
     "data": {
      "text/html": [
       "<div>\n",
       "<style scoped>\n",
       "    .dataframe tbody tr th:only-of-type {\n",
       "        vertical-align: middle;\n",
       "    }\n",
       "\n",
       "    .dataframe tbody tr th {\n",
       "        vertical-align: top;\n",
       "    }\n",
       "\n",
       "    .dataframe thead th {\n",
       "        text-align: right;\n",
       "    }\n",
       "</style>\n",
       "<table border=\"1\" class=\"dataframe\">\n",
       "  <thead>\n",
       "    <tr style=\"text-align: right;\">\n",
       "      <th></th>\n",
       "      <th>COL_DTYPE</th>\n",
       "      <th>TOTAL_COUNT</th>\n",
       "      <th>UNIQ_VALS</th>\n",
       "      <th>COL_NULLS</th>\n",
       "      <th>COL_NULL%</th>\n",
       "    </tr>\n",
       "    <tr>\n",
       "      <th>COL_NAME</th>\n",
       "      <th></th>\n",
       "      <th></th>\n",
       "      <th></th>\n",
       "      <th></th>\n",
       "      <th></th>\n",
       "    </tr>\n",
       "  </thead>\n",
       "  <tbody>\n",
       "    <tr>\n",
       "      <th>Code</th>\n",
       "      <td>int64</td>\n",
       "      <td>7</td>\n",
       "      <td>7</td>\n",
       "      <td>0</td>\n",
       "      <td>0.0</td>\n",
       "    </tr>\n",
       "    <tr>\n",
       "      <th>Description</th>\n",
       "      <td>object</td>\n",
       "      <td>7</td>\n",
       "      <td>7</td>\n",
       "      <td>0</td>\n",
       "      <td>0.0</td>\n",
       "    </tr>\n",
       "  </tbody>\n",
       "</table>\n",
       "</div>"
      ],
      "text/plain": [
       "            COL_DTYPE  TOTAL_COUNT UNIQ_VALS  COL_NULLS  COL_NULL%\n",
       "COL_NAME                                                          \n",
       "Code            int64            7         7          0        0.0\n",
       "Description    object            7         7          0        0.0"
      ]
     },
     "execution_count": 23,
     "metadata": {},
     "output_type": "execute_result"
    }
   ],
   "source": [
    "get_profile(df_diversions)"
   ]
  },
  {
   "cell_type": "markdown",
   "metadata": {},
   "source": [
    "### L_MONTHS :-"
   ]
  },
  {
   "cell_type": "code",
   "execution_count": 24,
   "metadata": {},
   "outputs": [
    {
     "name": "stdout",
     "output_type": "stream",
     "text": [
      "   Code Description\n",
      "0     1     January\n",
      "1     2    February\n",
      "2     3       March\n",
      "3     4       April\n",
      "4     5         May\n"
     ]
    }
   ],
   "source": [
    "try:\n",
    "    \n",
    "    df_months = pd.read_csv(os.path.join(config_src_data_path,'L_MONTHS/L_MONTHS.csv'))\n",
    "    print(df_months.head())\n",
    "    \n",
    "except Exception as e:\n",
    "    logging.error(f'failed to open the Directory of source data, {e}')"
   ]
  },
  {
   "cell_type": "code",
   "execution_count": 25,
   "metadata": {
    "scrolled": false
   },
   "outputs": [
    {
     "data": {
      "text/html": [
       "<div>\n",
       "<style scoped>\n",
       "    .dataframe tbody tr th:only-of-type {\n",
       "        vertical-align: middle;\n",
       "    }\n",
       "\n",
       "    .dataframe tbody tr th {\n",
       "        vertical-align: top;\n",
       "    }\n",
       "\n",
       "    .dataframe thead th {\n",
       "        text-align: right;\n",
       "    }\n",
       "</style>\n",
       "<table border=\"1\" class=\"dataframe\">\n",
       "  <thead>\n",
       "    <tr style=\"text-align: right;\">\n",
       "      <th></th>\n",
       "      <th>COL_DTYPE</th>\n",
       "      <th>TOTAL_COUNT</th>\n",
       "      <th>UNIQ_VALS</th>\n",
       "      <th>COL_NULLS</th>\n",
       "      <th>COL_NULL%</th>\n",
       "    </tr>\n",
       "    <tr>\n",
       "      <th>COL_NAME</th>\n",
       "      <th></th>\n",
       "      <th></th>\n",
       "      <th></th>\n",
       "      <th></th>\n",
       "      <th></th>\n",
       "    </tr>\n",
       "  </thead>\n",
       "  <tbody>\n",
       "    <tr>\n",
       "      <th>Code</th>\n",
       "      <td>int64</td>\n",
       "      <td>12</td>\n",
       "      <td>12</td>\n",
       "      <td>0</td>\n",
       "      <td>0.0</td>\n",
       "    </tr>\n",
       "    <tr>\n",
       "      <th>Description</th>\n",
       "      <td>object</td>\n",
       "      <td>12</td>\n",
       "      <td>12</td>\n",
       "      <td>0</td>\n",
       "      <td>0.0</td>\n",
       "    </tr>\n",
       "  </tbody>\n",
       "</table>\n",
       "</div>"
      ],
      "text/plain": [
       "            COL_DTYPE  TOTAL_COUNT UNIQ_VALS  COL_NULLS  COL_NULL%\n",
       "COL_NAME                                                          \n",
       "Code            int64           12        12          0        0.0\n",
       "Description    object           12        12          0        0.0"
      ]
     },
     "execution_count": 25,
     "metadata": {},
     "output_type": "execute_result"
    }
   ],
   "source": [
    "get_profile(df_months)"
   ]
  },
  {
   "cell_type": "markdown",
   "metadata": {},
   "source": [
    "### L_ONTIME_DELAY_GROUPS :-"
   ]
  },
  {
   "cell_type": "code",
   "execution_count": 26,
   "metadata": {},
   "outputs": [
    {
     "name": "stdout",
     "output_type": "stream",
     "text": [
      "   Code                       Description\n",
      "0    -2               Delay < -15 minutes\n",
      "1    -1  Delay between -15 and -1 minutes\n",
      "2     0    Delay between 0 and 14 minutes\n",
      "3     1    Delay between 15 to 29 minutes\n",
      "4     2    Delay between 30 to 44 minutes\n"
     ]
    }
   ],
   "source": [
    "try:\n",
    "    \n",
    "    df_ontime_delay_groups = pd.read_csv(os.path.join(config_src_data_path,'L_ONTIME_DELAY_GROUPS/L_ONTIME_DELAY_GROUPS.csv'))\n",
    "    print(df_ontime_delay_groups.head())\n",
    "    \n",
    "except Exception as e:\n",
    "    logging.error(f'failed to open the Directory of source data, {e}')"
   ]
  },
  {
   "cell_type": "code",
   "execution_count": 27,
   "metadata": {
    "scrolled": false
   },
   "outputs": [
    {
     "data": {
      "text/html": [
       "<div>\n",
       "<style scoped>\n",
       "    .dataframe tbody tr th:only-of-type {\n",
       "        vertical-align: middle;\n",
       "    }\n",
       "\n",
       "    .dataframe tbody tr th {\n",
       "        vertical-align: top;\n",
       "    }\n",
       "\n",
       "    .dataframe thead th {\n",
       "        text-align: right;\n",
       "    }\n",
       "</style>\n",
       "<table border=\"1\" class=\"dataframe\">\n",
       "  <thead>\n",
       "    <tr style=\"text-align: right;\">\n",
       "      <th></th>\n",
       "      <th>COL_DTYPE</th>\n",
       "      <th>TOTAL_COUNT</th>\n",
       "      <th>UNIQ_VALS</th>\n",
       "      <th>COL_NULLS</th>\n",
       "      <th>COL_NULL%</th>\n",
       "    </tr>\n",
       "    <tr>\n",
       "      <th>COL_NAME</th>\n",
       "      <th></th>\n",
       "      <th></th>\n",
       "      <th></th>\n",
       "      <th></th>\n",
       "      <th></th>\n",
       "    </tr>\n",
       "  </thead>\n",
       "  <tbody>\n",
       "    <tr>\n",
       "      <th>Code</th>\n",
       "      <td>int64</td>\n",
       "      <td>15</td>\n",
       "      <td>15</td>\n",
       "      <td>0</td>\n",
       "      <td>0.0</td>\n",
       "    </tr>\n",
       "    <tr>\n",
       "      <th>Description</th>\n",
       "      <td>object</td>\n",
       "      <td>15</td>\n",
       "      <td>15</td>\n",
       "      <td>0</td>\n",
       "      <td>0.0</td>\n",
       "    </tr>\n",
       "  </tbody>\n",
       "</table>\n",
       "</div>"
      ],
      "text/plain": [
       "            COL_DTYPE  TOTAL_COUNT UNIQ_VALS  COL_NULLS  COL_NULL%\n",
       "COL_NAME                                                          \n",
       "Code            int64           15        15          0        0.0\n",
       "Description    object           15        15          0        0.0"
      ]
     },
     "execution_count": 27,
     "metadata": {},
     "output_type": "execute_result"
    }
   ],
   "source": [
    "get_profile(df_ontime_delay_groups)"
   ]
  },
  {
   "cell_type": "markdown",
   "metadata": {},
   "source": [
    "### L_QUARTERS :-"
   ]
  },
  {
   "cell_type": "code",
   "execution_count": 28,
   "metadata": {},
   "outputs": [
    {
     "name": "stdout",
     "output_type": "stream",
     "text": [
      "   Code                     Description\n",
      "0     1     Quarter1:January 1-March 31\n",
      "1     2        Quarter2:April 1-June 30\n",
      "2     3    Quarter3:July 1-September 30\n",
      "3     4  Quarter4:October 1-December 31\n"
     ]
    }
   ],
   "source": [
    "try:\n",
    "    \n",
    "    df_quarters = pd.read_csv(os.path.join(config_src_data_path,'L_QUARTERS/L_QUARTERS.csv'))\n",
    "    print(df_quarters.head())\n",
    "    \n",
    "except Exception as e:\n",
    "    logging.error(f'failed to open the Directory of source data, {e}')"
   ]
  },
  {
   "cell_type": "code",
   "execution_count": 29,
   "metadata": {
    "scrolled": false
   },
   "outputs": [
    {
     "data": {
      "text/html": [
       "<div>\n",
       "<style scoped>\n",
       "    .dataframe tbody tr th:only-of-type {\n",
       "        vertical-align: middle;\n",
       "    }\n",
       "\n",
       "    .dataframe tbody tr th {\n",
       "        vertical-align: top;\n",
       "    }\n",
       "\n",
       "    .dataframe thead th {\n",
       "        text-align: right;\n",
       "    }\n",
       "</style>\n",
       "<table border=\"1\" class=\"dataframe\">\n",
       "  <thead>\n",
       "    <tr style=\"text-align: right;\">\n",
       "      <th></th>\n",
       "      <th>COL_DTYPE</th>\n",
       "      <th>TOTAL_COUNT</th>\n",
       "      <th>UNIQ_VALS</th>\n",
       "      <th>COL_NULLS</th>\n",
       "      <th>COL_NULL%</th>\n",
       "    </tr>\n",
       "    <tr>\n",
       "      <th>COL_NAME</th>\n",
       "      <th></th>\n",
       "      <th></th>\n",
       "      <th></th>\n",
       "      <th></th>\n",
       "      <th></th>\n",
       "    </tr>\n",
       "  </thead>\n",
       "  <tbody>\n",
       "    <tr>\n",
       "      <th>Code</th>\n",
       "      <td>int64</td>\n",
       "      <td>4</td>\n",
       "      <td>4</td>\n",
       "      <td>0</td>\n",
       "      <td>0.0</td>\n",
       "    </tr>\n",
       "    <tr>\n",
       "      <th>Description</th>\n",
       "      <td>object</td>\n",
       "      <td>4</td>\n",
       "      <td>4</td>\n",
       "      <td>0</td>\n",
       "      <td>0.0</td>\n",
       "    </tr>\n",
       "  </tbody>\n",
       "</table>\n",
       "</div>"
      ],
      "text/plain": [
       "            COL_DTYPE  TOTAL_COUNT UNIQ_VALS  COL_NULLS  COL_NULL%\n",
       "COL_NAME                                                          \n",
       "Code            int64            4         4          0        0.0\n",
       "Description    object            4         4          0        0.0"
      ]
     },
     "execution_count": 29,
     "metadata": {},
     "output_type": "execute_result"
    }
   ],
   "source": [
    "get_profile(df_quarters)"
   ]
  },
  {
   "cell_type": "markdown",
   "metadata": {},
   "source": [
    "### L_STATE_ABR_AVIATION :-"
   ]
  },
  {
   "cell_type": "code",
   "execution_count": 30,
   "metadata": {},
   "outputs": [
    {
     "name": "stdout",
     "output_type": "stream",
     "text": [
      "  Code      Description\n",
      "0   AB  Alberta, Canada\n",
      "1   AK           Alaska\n",
      "2   AL          Alabama\n",
      "3   AR         Arkansas\n",
      "4   AZ          Arizona\n"
     ]
    }
   ],
   "source": [
    "try:\n",
    "    \n",
    "    df_state_abr_aviation = pd.read_csv(os.path.join(config_src_data_path,'L_STATE_ABR_AVIATION/L_STATE_ABR_AVIATION.csv'))\n",
    "    print(df_state_abr_aviation.head())\n",
    "    \n",
    "except Exception as e:\n",
    "    logging.error(f'failed to open the Directory of source data, {e}')"
   ]
  },
  {
   "cell_type": "code",
   "execution_count": 31,
   "metadata": {
    "scrolled": false
   },
   "outputs": [
    {
     "data": {
      "text/html": [
       "<div>\n",
       "<style scoped>\n",
       "    .dataframe tbody tr th:only-of-type {\n",
       "        vertical-align: middle;\n",
       "    }\n",
       "\n",
       "    .dataframe tbody tr th {\n",
       "        vertical-align: top;\n",
       "    }\n",
       "\n",
       "    .dataframe thead th {\n",
       "        text-align: right;\n",
       "    }\n",
       "</style>\n",
       "<table border=\"1\" class=\"dataframe\">\n",
       "  <thead>\n",
       "    <tr style=\"text-align: right;\">\n",
       "      <th></th>\n",
       "      <th>COL_DTYPE</th>\n",
       "      <th>TOTAL_COUNT</th>\n",
       "      <th>UNIQ_VALS</th>\n",
       "      <th>COL_NULLS</th>\n",
       "      <th>COL_NULL%</th>\n",
       "    </tr>\n",
       "    <tr>\n",
       "      <th>COL_NAME</th>\n",
       "      <th></th>\n",
       "      <th></th>\n",
       "      <th></th>\n",
       "      <th></th>\n",
       "      <th></th>\n",
       "    </tr>\n",
       "  </thead>\n",
       "  <tbody>\n",
       "    <tr>\n",
       "      <th>Code</th>\n",
       "      <td>object</td>\n",
       "      <td>67</td>\n",
       "      <td>67</td>\n",
       "      <td>0</td>\n",
       "      <td>0.0</td>\n",
       "    </tr>\n",
       "    <tr>\n",
       "      <th>Description</th>\n",
       "      <td>object</td>\n",
       "      <td>67</td>\n",
       "      <td>67</td>\n",
       "      <td>0</td>\n",
       "      <td>0.0</td>\n",
       "    </tr>\n",
       "  </tbody>\n",
       "</table>\n",
       "</div>"
      ],
      "text/plain": [
       "            COL_DTYPE  TOTAL_COUNT UNIQ_VALS  COL_NULLS  COL_NULL%\n",
       "COL_NAME                                                          \n",
       "Code           object           67        67          0        0.0\n",
       "Description    object           67        67          0        0.0"
      ]
     },
     "execution_count": 31,
     "metadata": {},
     "output_type": "execute_result"
    }
   ],
   "source": [
    "get_profile(df_state_abr_aviation)"
   ]
  },
  {
   "cell_type": "markdown",
   "metadata": {},
   "source": [
    "### L_STATE_FIPS :-"
   ]
  },
  {
   "cell_type": "code",
   "execution_count": 32,
   "metadata": {},
   "outputs": [
    {
     "name": "stdout",
     "output_type": "stream",
     "text": [
      "   Code     Description\n",
      "0     0  Not Applicable\n",
      "1     1         Alabama\n",
      "2     2          Alaska\n",
      "3     4         Arizona\n",
      "4     5        Arkansas\n"
     ]
    }
   ],
   "source": [
    "try:\n",
    "    \n",
    "    df_state_fips = pd.read_csv(os.path.join(config_src_data_path,'L_STATE_FIPS/L_STATE_FIPS.csv'))\n",
    "    print(df_state_fips.head())\n",
    "    \n",
    "except Exception as e:\n",
    "    logging.error(f'failed to open the Directory of source data, {e}')"
   ]
  },
  {
   "cell_type": "code",
   "execution_count": 33,
   "metadata": {
    "scrolled": false
   },
   "outputs": [
    {
     "data": {
      "text/html": [
       "<div>\n",
       "<style scoped>\n",
       "    .dataframe tbody tr th:only-of-type {\n",
       "        vertical-align: middle;\n",
       "    }\n",
       "\n",
       "    .dataframe tbody tr th {\n",
       "        vertical-align: top;\n",
       "    }\n",
       "\n",
       "    .dataframe thead th {\n",
       "        text-align: right;\n",
       "    }\n",
       "</style>\n",
       "<table border=\"1\" class=\"dataframe\">\n",
       "  <thead>\n",
       "    <tr style=\"text-align: right;\">\n",
       "      <th></th>\n",
       "      <th>COL_DTYPE</th>\n",
       "      <th>TOTAL_COUNT</th>\n",
       "      <th>UNIQ_VALS</th>\n",
       "      <th>COL_NULLS</th>\n",
       "      <th>COL_NULL%</th>\n",
       "    </tr>\n",
       "    <tr>\n",
       "      <th>COL_NAME</th>\n",
       "      <th></th>\n",
       "      <th></th>\n",
       "      <th></th>\n",
       "      <th></th>\n",
       "      <th></th>\n",
       "    </tr>\n",
       "  </thead>\n",
       "  <tbody>\n",
       "    <tr>\n",
       "      <th>Code</th>\n",
       "      <td>int64</td>\n",
       "      <td>74</td>\n",
       "      <td>74</td>\n",
       "      <td>0</td>\n",
       "      <td>0.0</td>\n",
       "    </tr>\n",
       "    <tr>\n",
       "      <th>Description</th>\n",
       "      <td>object</td>\n",
       "      <td>74</td>\n",
       "      <td>73</td>\n",
       "      <td>0</td>\n",
       "      <td>0.0</td>\n",
       "    </tr>\n",
       "  </tbody>\n",
       "</table>\n",
       "</div>"
      ],
      "text/plain": [
       "            COL_DTYPE  TOTAL_COUNT UNIQ_VALS  COL_NULLS  COL_NULL%\n",
       "COL_NAME                                                          \n",
       "Code            int64           74        74          0        0.0\n",
       "Description    object           74        73          0        0.0"
      ]
     },
     "execution_count": 33,
     "metadata": {},
     "output_type": "execute_result"
    }
   ],
   "source": [
    "get_profile(df_state_fips)"
   ]
  },
  {
   "cell_type": "markdown",
   "metadata": {},
   "source": [
    "### L_UNIQUE_CARRIERS :-"
   ]
  },
  {
   "cell_type": "code",
   "execution_count": 34,
   "metadata": {},
   "outputs": [
    {
     "name": "stdout",
     "output_type": "stream",
     "text": [
      "  Code                    Description\n",
      "0  02Q                  Titan Airways\n",
      "1  04Q             Tradewind Aviation\n",
      "2  05Q            Comlux Aviation, AG\n",
      "3  06Q  Master Top Linhas Aereas Ltd.\n",
      "4  07Q            Flair Airlines Ltd.\n"
     ]
    }
   ],
   "source": [
    "try:\n",
    "    \n",
    "    df_unique_carries = pd.read_csv(os.path.join(config_src_data_path,'L_UNIQUE_CARRIERS/L_UNIQUE_CARRIERS.csv'))\n",
    "    print(df_unique_carries.head())\n",
    "    \n",
    "except Exception as e:\n",
    "    logging.error(f'failed to open the Directory of source data, {e}')"
   ]
  },
  {
   "cell_type": "code",
   "execution_count": 35,
   "metadata": {
    "scrolled": true
   },
   "outputs": [
    {
     "data": {
      "text/html": [
       "<div>\n",
       "<style scoped>\n",
       "    .dataframe tbody tr th:only-of-type {\n",
       "        vertical-align: middle;\n",
       "    }\n",
       "\n",
       "    .dataframe tbody tr th {\n",
       "        vertical-align: top;\n",
       "    }\n",
       "\n",
       "    .dataframe thead th {\n",
       "        text-align: right;\n",
       "    }\n",
       "</style>\n",
       "<table border=\"1\" class=\"dataframe\">\n",
       "  <thead>\n",
       "    <tr style=\"text-align: right;\">\n",
       "      <th></th>\n",
       "      <th>COL_DTYPE</th>\n",
       "      <th>TOTAL_COUNT</th>\n",
       "      <th>UNIQ_VALS</th>\n",
       "      <th>COL_NULLS</th>\n",
       "      <th>COL_NULL%</th>\n",
       "    </tr>\n",
       "    <tr>\n",
       "      <th>COL_NAME</th>\n",
       "      <th></th>\n",
       "      <th></th>\n",
       "      <th></th>\n",
       "      <th></th>\n",
       "      <th></th>\n",
       "    </tr>\n",
       "  </thead>\n",
       "  <tbody>\n",
       "    <tr>\n",
       "      <th>Code</th>\n",
       "      <td>object</td>\n",
       "      <td>1673</td>\n",
       "      <td>1672</td>\n",
       "      <td>1</td>\n",
       "      <td>0.06</td>\n",
       "    </tr>\n",
       "    <tr>\n",
       "      <th>Description</th>\n",
       "      <td>object</td>\n",
       "      <td>1673</td>\n",
       "      <td>1673</td>\n",
       "      <td>0</td>\n",
       "      <td>0.00</td>\n",
       "    </tr>\n",
       "  </tbody>\n",
       "</table>\n",
       "</div>"
      ],
      "text/plain": [
       "            COL_DTYPE  TOTAL_COUNT UNIQ_VALS  COL_NULLS  COL_NULL%\n",
       "COL_NAME                                                          \n",
       "Code           object         1673      1672          1       0.06\n",
       "Description    object         1673      1673          0       0.00"
      ]
     },
     "execution_count": 35,
     "metadata": {},
     "output_type": "execute_result"
    }
   ],
   "source": [
    "get_profile(df_unique_carries)"
   ]
  },
  {
   "cell_type": "markdown",
   "metadata": {},
   "source": [
    "### L_WEEKDAYS :-"
   ]
  },
  {
   "cell_type": "code",
   "execution_count": 36,
   "metadata": {},
   "outputs": [
    {
     "name": "stdout",
     "output_type": "stream",
     "text": [
      "   Code Description\n",
      "0     1      Monday\n",
      "1     2     Tuesday\n",
      "2     3   Wednesday\n",
      "3     4    Thursday\n",
      "4     5      Friday\n",
      "5     6    Saturday\n",
      "6     7      Sunday\n",
      "7     9     Unknown\n"
     ]
    }
   ],
   "source": [
    "try:\n",
    "    \n",
    "    df_weekdays = pd.read_csv(os.path.join(config_src_data_path,'L_WEEKDAYS/L_WEEKDAYS.csv'))\n",
    "    print(df_weekdays.head(10))\n",
    "    \n",
    "except Exception as e:\n",
    "    logging.error(f'failed to open the Directory of source data, {e}')"
   ]
  },
  {
   "cell_type": "code",
   "execution_count": 37,
   "metadata": {
    "scrolled": true
   },
   "outputs": [
    {
     "data": {
      "text/html": [
       "<div>\n",
       "<style scoped>\n",
       "    .dataframe tbody tr th:only-of-type {\n",
       "        vertical-align: middle;\n",
       "    }\n",
       "\n",
       "    .dataframe tbody tr th {\n",
       "        vertical-align: top;\n",
       "    }\n",
       "\n",
       "    .dataframe thead th {\n",
       "        text-align: right;\n",
       "    }\n",
       "</style>\n",
       "<table border=\"1\" class=\"dataframe\">\n",
       "  <thead>\n",
       "    <tr style=\"text-align: right;\">\n",
       "      <th></th>\n",
       "      <th>COL_DTYPE</th>\n",
       "      <th>TOTAL_COUNT</th>\n",
       "      <th>UNIQ_VALS</th>\n",
       "      <th>COL_NULLS</th>\n",
       "      <th>COL_NULL%</th>\n",
       "    </tr>\n",
       "    <tr>\n",
       "      <th>COL_NAME</th>\n",
       "      <th></th>\n",
       "      <th></th>\n",
       "      <th></th>\n",
       "      <th></th>\n",
       "      <th></th>\n",
       "    </tr>\n",
       "  </thead>\n",
       "  <tbody>\n",
       "    <tr>\n",
       "      <th>Code</th>\n",
       "      <td>int64</td>\n",
       "      <td>8</td>\n",
       "      <td>8</td>\n",
       "      <td>0</td>\n",
       "      <td>0.0</td>\n",
       "    </tr>\n",
       "    <tr>\n",
       "      <th>Description</th>\n",
       "      <td>object</td>\n",
       "      <td>8</td>\n",
       "      <td>8</td>\n",
       "      <td>0</td>\n",
       "      <td>0.0</td>\n",
       "    </tr>\n",
       "  </tbody>\n",
       "</table>\n",
       "</div>"
      ],
      "text/plain": [
       "            COL_DTYPE  TOTAL_COUNT UNIQ_VALS  COL_NULLS  COL_NULL%\n",
       "COL_NAME                                                          \n",
       "Code            int64            8         8          0        0.0\n",
       "Description    object            8         8          0        0.0"
      ]
     },
     "execution_count": 37,
     "metadata": {},
     "output_type": "execute_result"
    }
   ],
   "source": [
    "get_profile(df_weekdays)"
   ]
  },
  {
   "cell_type": "markdown",
   "metadata": {},
   "source": [
    "### L_WORLD_AREA_CODES :-"
   ]
  },
  {
   "cell_type": "code",
   "execution_count": 38,
   "metadata": {},
   "outputs": [
    {
     "name": "stdout",
     "output_type": "stream",
     "text": [
      "   Code                                     Description\n",
      "0     1                                          Alaska\n",
      "1     2                                          Hawaii\n",
      "2     3                                     Puerto Rico\n",
      "3     4                             U.S. Virgin Islands\n",
      "4     5  U.S. Pacific Trust Territories and Possessions\n"
     ]
    }
   ],
   "source": [
    "try:\n",
    "    \n",
    "    df_world_area_codes = pd.read_csv(os.path.join(config_src_data_path,'L_WORLD_AREA_CODES/L_WORLD_AREA_CODES.csv'))\n",
    "    print(df_world_area_codes.head())\n",
    "    \n",
    "except Exception as e:\n",
    "    logging.error(f'failed to open the Directory of source data, {e}')"
   ]
  },
  {
   "cell_type": "code",
   "execution_count": 39,
   "metadata": {
    "scrolled": true
   },
   "outputs": [
    {
     "data": {
      "text/html": [
       "<div>\n",
       "<style scoped>\n",
       "    .dataframe tbody tr th:only-of-type {\n",
       "        vertical-align: middle;\n",
       "    }\n",
       "\n",
       "    .dataframe tbody tr th {\n",
       "        vertical-align: top;\n",
       "    }\n",
       "\n",
       "    .dataframe thead th {\n",
       "        text-align: right;\n",
       "    }\n",
       "</style>\n",
       "<table border=\"1\" class=\"dataframe\">\n",
       "  <thead>\n",
       "    <tr style=\"text-align: right;\">\n",
       "      <th></th>\n",
       "      <th>COL_DTYPE</th>\n",
       "      <th>TOTAL_COUNT</th>\n",
       "      <th>UNIQ_VALS</th>\n",
       "      <th>COL_NULLS</th>\n",
       "      <th>COL_NULL%</th>\n",
       "    </tr>\n",
       "    <tr>\n",
       "      <th>COL_NAME</th>\n",
       "      <th></th>\n",
       "      <th></th>\n",
       "      <th></th>\n",
       "      <th></th>\n",
       "      <th></th>\n",
       "    </tr>\n",
       "  </thead>\n",
       "  <tbody>\n",
       "    <tr>\n",
       "      <th>Code</th>\n",
       "      <td>int64</td>\n",
       "      <td>333</td>\n",
       "      <td>333</td>\n",
       "      <td>0</td>\n",
       "      <td>0.0</td>\n",
       "    </tr>\n",
       "    <tr>\n",
       "      <th>Description</th>\n",
       "      <td>object</td>\n",
       "      <td>333</td>\n",
       "      <td>329</td>\n",
       "      <td>0</td>\n",
       "      <td>0.0</td>\n",
       "    </tr>\n",
       "  </tbody>\n",
       "</table>\n",
       "</div>"
      ],
      "text/plain": [
       "            COL_DTYPE  TOTAL_COUNT UNIQ_VALS  COL_NULLS  COL_NULL%\n",
       "COL_NAME                                                          \n",
       "Code            int64          333       333          0        0.0\n",
       "Description    object          333       329          0        0.0"
      ]
     },
     "execution_count": 39,
     "metadata": {},
     "output_type": "execute_result"
    }
   ],
   "source": [
    "get_profile(df_world_area_codes)"
   ]
  },
  {
   "cell_type": "markdown",
   "metadata": {},
   "source": [
    "### L_YESNO_RESP :-"
   ]
  },
  {
   "cell_type": "code",
   "execution_count": 40,
   "metadata": {},
   "outputs": [
    {
     "name": "stdout",
     "output_type": "stream",
     "text": [
      "   Code Description\n",
      "0     0          No\n",
      "1     1         Yes\n",
      "2     3       Maybe\n"
     ]
    }
   ],
   "source": [
    "try:\n",
    "    \n",
    "    df_yesno_resp = pd.read_csv(os.path.join(config_src_data_path,'L_YESNO_RESP/L_YESNO_RESP.csv'))\n",
    "    print(df_yesno_resp.head())\n",
    "    \n",
    "except Exception as e:\n",
    "    logging.error(f'failed to open the Directory of source data, {e}')"
   ]
  },
  {
   "cell_type": "code",
   "execution_count": 41,
   "metadata": {
    "scrolled": true
   },
   "outputs": [
    {
     "data": {
      "text/html": [
       "<div>\n",
       "<style scoped>\n",
       "    .dataframe tbody tr th:only-of-type {\n",
       "        vertical-align: middle;\n",
       "    }\n",
       "\n",
       "    .dataframe tbody tr th {\n",
       "        vertical-align: top;\n",
       "    }\n",
       "\n",
       "    .dataframe thead th {\n",
       "        text-align: right;\n",
       "    }\n",
       "</style>\n",
       "<table border=\"1\" class=\"dataframe\">\n",
       "  <thead>\n",
       "    <tr style=\"text-align: right;\">\n",
       "      <th></th>\n",
       "      <th>COL_DTYPE</th>\n",
       "      <th>TOTAL_COUNT</th>\n",
       "      <th>UNIQ_VALS</th>\n",
       "      <th>COL_NULLS</th>\n",
       "      <th>COL_NULL%</th>\n",
       "    </tr>\n",
       "    <tr>\n",
       "      <th>COL_NAME</th>\n",
       "      <th></th>\n",
       "      <th></th>\n",
       "      <th></th>\n",
       "      <th></th>\n",
       "      <th></th>\n",
       "    </tr>\n",
       "  </thead>\n",
       "  <tbody>\n",
       "    <tr>\n",
       "      <th>Code</th>\n",
       "      <td>int64</td>\n",
       "      <td>3</td>\n",
       "      <td>3</td>\n",
       "      <td>0</td>\n",
       "      <td>0.0</td>\n",
       "    </tr>\n",
       "    <tr>\n",
       "      <th>Description</th>\n",
       "      <td>object</td>\n",
       "      <td>3</td>\n",
       "      <td>3</td>\n",
       "      <td>0</td>\n",
       "      <td>0.0</td>\n",
       "    </tr>\n",
       "  </tbody>\n",
       "</table>\n",
       "</div>"
      ],
      "text/plain": [
       "            COL_DTYPE  TOTAL_COUNT UNIQ_VALS  COL_NULLS  COL_NULL%\n",
       "COL_NAME                                                          \n",
       "Code            int64            3         3          0        0.0\n",
       "Description    object            3         3          0        0.0"
      ]
     },
     "execution_count": 41,
     "metadata": {},
     "output_type": "execute_result"
    }
   ],
   "source": [
    "get_profile(df_yesno_resp)"
   ]
  },
  {
   "cell_type": "code",
   "execution_count": null,
   "metadata": {},
   "outputs": [],
   "source": []
  }
 ],
 "metadata": {
  "kernelspec": {
   "display_name": "Python 3",
   "language": "python",
   "name": "python3"
  },
  "language_info": {
   "codemirror_mode": {
    "name": "ipython",
    "version": 3
   },
   "file_extension": ".py",
   "mimetype": "text/x-python",
   "name": "python",
   "nbconvert_exporter": "python",
   "pygments_lexer": "ipython3",
   "version": "3.6.9"
  }
 },
 "nbformat": 4,
 "nbformat_minor": 4
}

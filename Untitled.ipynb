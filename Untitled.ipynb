{
 "cells": [
  {
   "cell_type": "code",
   "execution_count": null,
   "metadata": {},
   "outputs": [],
   "source": [
    "import pandas as pd\n",
    "\n",
    "def zip_csv_to_gzip_parquet(file_path):\n",
    "    \n",
    "    df = pd.read_csv(file_path, compression='zip')\n",
    "    \n",
    "    df.\n",
    "    \n",
    "    return file_path"
   ]
  },
  {
   "cell_type": "code",
   "execution_count": null,
   "metadata": {},
   "outputs": [],
   "source": [
    "path = '/home/admin_123/Desktop/Main/DataSets/FlightsData/Flights/Jan19.zip'"
   ]
  },
  {
   "cell_type": "code",
   "execution_count": null,
   "metadata": {},
   "outputs": [],
   "source": [
    "df = pd.read_csv(path, compression='zip')"
   ]
  },
  {
   "cell_type": "code",
   "execution_count": null,
   "metadata": {},
   "outputs": [],
   "source": [
    "df.head()"
   ]
  },
  {
   "cell_type": "code",
   "execution_count": 1,
   "metadata": {},
   "outputs": [
    {
     "name": "stdout",
     "output_type": "stream",
     "text": [
      "+------------+\n",
      "|databaseName|\n",
      "+------------+\n",
      "|     default|\n",
      "|      ide_db|\n",
      "|   ide_db_18|\n",
      "|landing_zone|\n",
      "| notebook_db|\n",
      "| test_schema|\n",
      "+------------+\n",
      "\n"
     ]
    }
   ],
   "source": [
    "spark.sql('SHOW DATABASES').show()"
   ]
  },
  {
   "cell_type": "code",
   "execution_count": 2,
   "metadata": {},
   "outputs": [
    {
     "data": {
      "text/plain": [
       "DataFrame[]"
      ]
     },
     "execution_count": 2,
     "metadata": {},
     "output_type": "execute_result"
    }
   ],
   "source": [
    "spark.sql('USE landing_zone')"
   ]
  },
  {
   "cell_type": "code",
   "execution_count": 4,
   "metadata": {},
   "outputs": [
    {
     "name": "stdout",
     "output_type": "stream",
     "text": [
      "+------------+---------------------+-----------+\n",
      "|database    |tableName            |isTemporary|\n",
      "+------------+---------------------+-----------+\n",
      "|landing_zone|l_airline_id         |false      |\n",
      "|landing_zone|l_airport            |false      |\n",
      "|landing_zone|l_airport_id         |false      |\n",
      "|landing_zone|l_airport_seq_id     |false      |\n",
      "|landing_zone|l_cancellation       |false      |\n",
      "|landing_zone|l_carrier_history    |false      |\n",
      "|landing_zone|l_city_market_id     |false      |\n",
      "|landing_zone|l_deparrblk          |false      |\n",
      "|landing_zone|l_distance_group_250 |false      |\n",
      "|landing_zone|l_diversions         |false      |\n",
      "|landing_zone|l_months             |false      |\n",
      "|landing_zone|l_ontime_delay_groups|false      |\n",
      "|landing_zone|l_quarters           |false      |\n",
      "|landing_zone|l_state_abr_aviation |false      |\n",
      "|landing_zone|l_state_fips         |false      |\n",
      "|landing_zone|l_unique_carriers    |false      |\n",
      "|landing_zone|l_weekdays           |false      |\n",
      "|landing_zone|l_world_area_codes   |false      |\n",
      "|landing_zone|l_yesno_resp         |false      |\n",
      "+------------+---------------------+-----------+\n",
      "\n"
     ]
    }
   ],
   "source": [
    "spark.sql('SHOW TABLES').show(truncate=False)"
   ]
  },
  {
   "cell_type": "code",
   "execution_count": 4,
   "metadata": {},
   "outputs": [
    {
     "name": "stdout",
     "output_type": "stream",
     "text": [
      "+-----+--------------------------------+\n",
      "|Code |Description                     |\n",
      "+-----+--------------------------------+\n",
      "|19031|Mackey International Inc.: MAC  |\n",
      "|19032|Munz Northern Airlines Inc.: XY |\n",
      "|19033|Cochise Airlines Inc.: COC      |\n",
      "|19034|Golden Gate Airlines Inc.: GSA  |\n",
      "|19035|Aeromech Inc.: RZZ              |\n",
      "|19036|Golden West Airlines Co.: GLW   |\n",
      "|19037|Puerto Rico Intl Airlines: PRN  |\n",
      "|19038|Air America Inc.: STZ           |\n",
      "|19039|Swift Aire Lines Inc.: SWT      |\n",
      "|19040|American Central Airlines: TSF  |\n",
      "|19041|Valdez Airlines: VEZ            |\n",
      "|19042|Southeast Alaska Airlines: WEB  |\n",
      "|19043|Altair Airlines Inc.: AAR       |\n",
      "|19044|Chitina Air Service: CHI        |\n",
      "|19045|Marco Island Airways Inc.: MRC  |\n",
      "|19046|Caribbean Air Services Inc.: OHZ|\n",
      "|19047|Sundance Airlines: PRO          |\n",
      "|19048|Seair Alaska Airlines Inc.: SAI |\n",
      "|19049|Southeast Airlines Inc.: SLZ    |\n",
      "|19050|Alaska Aeronautical Indust.: AAZ|\n",
      "+-----+--------------------------------+\n",
      "only showing top 20 rows\n",
      "\n"
     ]
    }
   ],
   "source": [
    "spark.sql(\n",
    "    \"\"\"\n",
    "    SELECT * FROM l_airline_id\n",
    "    \"\"\"\n",
    ").show(truncate=False)"
   ]
  },
  {
   "cell_type": "code",
   "execution_count": null,
   "metadata": {},
   "outputs": [],
   "source": []
  }
 ],
 "metadata": {
  "kernelspec": {
   "display_name": "Python 3",
   "language": "python",
   "name": "python3"
  },
  "language_info": {
   "codemirror_mode": {
    "name": "ipython",
    "version": 3
   },
   "file_extension": ".py",
   "mimetype": "text/x-python",
   "name": "python",
   "nbconvert_exporter": "python",
   "pygments_lexer": "ipython3",
   "version": "3.6.9"
  }
 },
 "nbformat": 4,
 "nbformat_minor": 4
}
